{
  "nbformat": 4,
  "nbformat_minor": 0,
  "metadata": {
    "colab": {
      "provenance": [],
      "collapsed_sections": [],
      "authorship_tag": "ABX9TyOr78USXWboa6cE7d64Cxw/",
      "include_colab_link": true
    },
    "kernelspec": {
      "name": "python3",
      "display_name": "Python 3"
    },
    "language_info": {
      "name": "python"
    },
    "accelerator": "GPU"
  },
  "cells": [
    {
      "cell_type": "markdown",
      "metadata": {
        "id": "view-in-github",
        "colab_type": "text"
      },
      "source": [
        "<a href=\"https://colab.research.google.com/github/mohammadzavvari/LIDC-IDRI-DICOM-/blob/main/LIDC_IDRI_Classification.ipynb\" target=\"_parent\"><img src=\"https://colab.research.google.com/assets/colab-badge.svg\" alt=\"Open In Colab\"/></a>"
      ]
    },
    {
      "cell_type": "code",
      "execution_count": null,
      "metadata": {
        "id": "47xrLaTYdUdC"
      },
      "outputs": [],
      "source": [
        "!pip install pylidc"
      ]
    },
    {
      "cell_type": "code",
      "source": [
        "import numpy as np\n",
        "import pandas as pd\n",
        "\n",
        "import torch.nn as nn\n",
        "import torch\n"
      ],
      "metadata": {
        "id": "9i8AoKt3dd-l"
      },
      "execution_count": null,
      "outputs": []
    },
    {
      "cell_type": "code",
      "source": [
        "import pydicom as dicom\n",
        "import pylidc as pl"
      ],
      "metadata": {
        "id": "xpJKUiA4dlUo"
      },
      "execution_count": null,
      "outputs": []
    },
    {
      "cell_type": "code",
      "source": [
        "!unzip -f ./LIDC-XML-only.zip"
      ],
      "metadata": {
        "colab": {
          "base_uri": "https://localhost:8080/"
        },
        "id": "rfrJJBWdU3gB",
        "outputId": "f94f442b-9174-456c-bfeb-c6ee9c7b854f"
      },
      "execution_count": null,
      "outputs": [
        {
          "output_type": "stream",
          "name": "stdout",
          "text": [
            "Archive:  ./LIDC-XML-only.zip\n",
            "  End-of-central-directory signature not found.  Either this file is not\n",
            "  a zipfile, or it constitutes one disk of a multi-part archive.  In the\n",
            "  latter case the central directory and zipfile comment will be found on\n",
            "  the last disk(s) of this archive.\n",
            "unzip:  cannot find zipfile directory in one of ./LIDC-XML-only.zip or\n",
            "        ./LIDC-XML-only.zip.zip, and cannot find ./LIDC-XML-only.zip.ZIP, period.\n"
          ]
        }
      ]
    },
    {
      "cell_type": "code",
      "source": [
        "?pydicom"
      ],
      "metadata": {
        "id": "VS9ODzB8dpm6"
      },
      "execution_count": null,
      "outputs": []
    },
    {
      "cell_type": "code",
      "source": [
        "?pylidc"
      ],
      "metadata": {
        "id": "chfPUeareYzj"
      },
      "execution_count": null,
      "outputs": []
    },
    {
      "cell_type": "code",
      "source": [
        "scans = pl.query(pl.Scan).filter(pl.Scan.slice_thickness <= 1,\n",
        "                                 pl.Scan.pixel_spacing <= 0.6)\n",
        "print(scans.count())\n",
        "# => 31"
      ],
      "metadata": {
        "colab": {
          "base_uri": "https://localhost:8080/"
        },
        "id": "udoVUZneftm7",
        "outputId": "ce2d1acc-3156-46ea-a993-40e59173e075"
      },
      "execution_count": null,
      "outputs": [
        {
          "output_type": "stream",
          "name": "stdout",
          "text": [
            "31\n"
          ]
        }
      ]
    },
    {
      "cell_type": "code",
      "source": [
        "pid = 'LIDC-IDRI-0078'\n",
        "scan = pl.query(pl.Scan).filter(pl.Scan.patient_id == pid).first()"
      ],
      "metadata": {
        "id": "4uZR7NigVWoO"
      },
      "execution_count": null,
      "outputs": []
    },
    {
      "cell_type": "code",
      "source": [
        "type(scan)"
      ],
      "metadata": {
        "colab": {
          "base_uri": "https://localhost:8080/"
        },
        "id": "fnUbUqVRVlVF",
        "outputId": "4b091e98-30a1-4067-bbbf-d2413119f909"
      },
      "execution_count": null,
      "outputs": [
        {
          "output_type": "execute_result",
          "data": {
            "text/plain": [
              "pylidc.Scan.Scan"
            ]
          },
          "metadata": {},
          "execution_count": 9
        }
      ]
    },
    {
      "cell_type": "code",
      "source": [
        "print(scan)"
      ],
      "metadata": {
        "colab": {
          "base_uri": "https://localhost:8080/"
        },
        "id": "XnkCMOgQVu4z",
        "outputId": "f7985795-dad1-46b4-f8b3-3f4e0ac59971"
      },
      "execution_count": null,
      "outputs": [
        {
          "output_type": "stream",
          "name": "stdout",
          "text": [
            "Scan(id=1,patient_id=LIDC-IDRI-0078)\n"
          ]
        }
      ]
    },
    {
      "cell_type": "code",
      "source": [
        "?pylidc.Scan.Scan()"
      ],
      "metadata": {
        "colab": {
          "base_uri": "https://localhost:8080/"
        },
        "id": "CTNVTVyMVxV4",
        "outputId": "383603c2-15a9-47c8-981f-93f0f8b00724"
      },
      "execution_count": null,
      "outputs": [
        {
          "output_type": "stream",
          "name": "stdout",
          "text": [
            "Object `pylidc.Scan.Scan()` not found.\n"
          ]
        }
      ]
    },
    {
      "cell_type": "code",
      "source": [
        "len(scan.annotations)"
      ],
      "metadata": {
        "colab": {
          "base_uri": "https://localhost:8080/"
        },
        "id": "NbjlbxvMV1pe",
        "outputId": "7e4f47fb-f9a4-4e1e-9aef-57c532929f9f"
      },
      "execution_count": null,
      "outputs": [
        {
          "output_type": "execute_result",
          "data": {
            "text/plain": [
              "13"
            ]
          },
          "metadata": {},
          "execution_count": 14
        }
      ]
    },
    {
      "cell_type": "code",
      "source": [
        "scan.annotations"
      ],
      "metadata": {
        "colab": {
          "base_uri": "https://localhost:8080/"
        },
        "id": "qUchpq_hWTUe",
        "outputId": "ab39d235-1c14-4862-fe74-ede484ce5bd6"
      },
      "execution_count": null,
      "outputs": [
        {
          "output_type": "execute_result",
          "data": {
            "text/plain": [
              "[Annotation(id=1,scan_id=1),\n",
              " Annotation(id=2,scan_id=1),\n",
              " Annotation(id=3,scan_id=1),\n",
              " Annotation(id=4,scan_id=1),\n",
              " Annotation(id=5,scan_id=1),\n",
              " Annotation(id=6,scan_id=1),\n",
              " Annotation(id=7,scan_id=1),\n",
              " Annotation(id=8,scan_id=1),\n",
              " Annotation(id=9,scan_id=1),\n",
              " Annotation(id=10,scan_id=1),\n",
              " Annotation(id=11,scan_id=1),\n",
              " Annotation(id=12,scan_id=1),\n",
              " Annotation(id=13,scan_id=1)]"
            ]
          },
          "metadata": {},
          "execution_count": 15
        }
      ]
    },
    {
      "cell_type": "code",
      "source": [
        "type(scan.annotations[0])"
      ],
      "metadata": {
        "colab": {
          "base_uri": "https://localhost:8080/"
        },
        "id": "sZxltk6MWaWF",
        "outputId": "c7122979-1ff6-4e04-bc0b-2ca969a5177c"
      },
      "execution_count": null,
      "outputs": [
        {
          "output_type": "execute_result",
          "data": {
            "text/plain": [
              "pylidc.Annotation.Annotation"
            ]
          },
          "metadata": {},
          "execution_count": 17
        }
      ]
    },
    {
      "cell_type": "code",
      "source": [
        "nods = scan.cluster_annotations()\n",
        "\n",
        "print(\"%s has %d nodules.\" % (scan, len(nods)))\n",
        "# => Scan(id=1,patient_id=LIDC-IDRI-0078) has 4 nodules.\n",
        "\n",
        "for i,nod in enumerate(nods):\n",
        "    print(\"Nodule %d has %d annotations.\" % (i+1, len(nods[i])))\n",
        "# => Nodule 1 has 4 annotations.\n",
        "# => Nodule 2 has 4 annotations.\n",
        "# => Nodule 3 has 1 annotations.\n",
        "# => Nodule 4 has 4 annotations."
      ],
      "metadata": {
        "colab": {
          "base_uri": "https://localhost:8080/"
        },
        "id": "25qeTKd1Ww7H",
        "outputId": "a5cf467b-ddfd-47a9-e6a1-1802a08a4284"
      },
      "execution_count": null,
      "outputs": [
        {
          "output_type": "stream",
          "name": "stdout",
          "text": [
            "Scan(id=1,patient_id=LIDC-IDRI-0078) has 4 nodules.\n",
            "Nodule 1 has 4 annotations.\n",
            "Nodule 2 has 4 annotations.\n",
            "Nodule 3 has 1 annotations.\n",
            "Nodule 4 has 4 annotations.\n"
          ]
        }
      ]
    },
    {
      "cell_type": "code",
      "source": [
        "nods"
      ],
      "metadata": {
        "colab": {
          "base_uri": "https://localhost:8080/"
        },
        "id": "-KCF2EDRW22L",
        "outputId": "25d9c755-faf5-4854-f356-5aa8ede69d66"
      },
      "execution_count": null,
      "outputs": [
        {
          "output_type": "execute_result",
          "data": {
            "text/plain": [
              "[[Annotation(id=2,scan_id=1),\n",
              "  Annotation(id=6,scan_id=1),\n",
              "  Annotation(id=10,scan_id=1),\n",
              "  Annotation(id=13,scan_id=1)],\n",
              " [Annotation(id=1,scan_id=1),\n",
              "  Annotation(id=5,scan_id=1),\n",
              "  Annotation(id=9,scan_id=1),\n",
              "  Annotation(id=12,scan_id=1)],\n",
              " [Annotation(id=8,scan_id=1)],\n",
              " [Annotation(id=3,scan_id=1),\n",
              "  Annotation(id=4,scan_id=1),\n",
              "  Annotation(id=7,scan_id=1),\n",
              "  Annotation(id=11,scan_id=1)]]"
            ]
          },
          "metadata": {},
          "execution_count": 19
        }
      ]
    },
    {
      "cell_type": "code",
      "source": [
        "vol = scan.to_volume()\n",
        "print(vol.shape)"
      ],
      "metadata": {
        "colab": {
          "base_uri": "https://localhost:8080/",
          "height": 418
        },
        "id": "p6rEPzU5W6xc",
        "outputId": "bbf8d027-1ef0-4839-87bf-d10023f49fdf"
      },
      "execution_count": null,
      "outputs": [
        {
          "output_type": "stream",
          "name": "stdout",
          "text": [
            "Loading dicom files ... This may take a moment.\n"
          ]
        },
        {
          "output_type": "stream",
          "name": "stderr",
          "text": [
            "/usr/local/lib/python3.7/dist-packages/pylidc/Scan.py:67: UserWarning: Could not find `dicom` configuration section or  `path` configuration option under that section.A template config file will be written to /root/.pylidcrc.\n",
            "  warnings.warn(msg.format(conf_file))\n"
          ]
        },
        {
          "output_type": "error",
          "ename": "RuntimeError",
          "evalue": "ignored",
          "traceback": [
            "\u001b[0;31m---------------------------------------------------------------------------\u001b[0m",
            "\u001b[0;31mRuntimeError\u001b[0m                              Traceback (most recent call last)",
            "\u001b[0;32m<ipython-input-20-2569531a4b62>\u001b[0m in \u001b[0;36m<module>\u001b[0;34m\u001b[0m\n\u001b[0;32m----> 1\u001b[0;31m \u001b[0mvol\u001b[0m \u001b[0;34m=\u001b[0m \u001b[0mscan\u001b[0m\u001b[0;34m.\u001b[0m\u001b[0mto_volume\u001b[0m\u001b[0;34m(\u001b[0m\u001b[0;34m)\u001b[0m\u001b[0;34m\u001b[0m\u001b[0;34m\u001b[0m\u001b[0m\n\u001b[0m\u001b[1;32m      2\u001b[0m \u001b[0mprint\u001b[0m\u001b[0;34m(\u001b[0m\u001b[0mvol\u001b[0m\u001b[0;34m.\u001b[0m\u001b[0mshape\u001b[0m\u001b[0;34m)\u001b[0m\u001b[0;34m\u001b[0m\u001b[0;34m\u001b[0m\u001b[0m\n",
            "\u001b[0;32m/usr/local/lib/python3.7/dist-packages/pylidc/Scan.py\u001b[0m in \u001b[0;36mto_volume\u001b[0;34m(self, verbose)\u001b[0m\n\u001b[1;32m    640\u001b[0m         \u001b[0mReturn\u001b[0m \u001b[0mthe\u001b[0m \u001b[0mscan\u001b[0m \u001b[0;32mas\u001b[0m \u001b[0ma\u001b[0m \u001b[0;36m3\u001b[0m\u001b[0mD\u001b[0m \u001b[0mnumpy\u001b[0m \u001b[0marray\u001b[0m \u001b[0mvolume\u001b[0m\u001b[0;34m.\u001b[0m\u001b[0;34m\u001b[0m\u001b[0;34m\u001b[0m\u001b[0m\n\u001b[1;32m    641\u001b[0m         \"\"\"\n\u001b[0;32m--> 642\u001b[0;31m         \u001b[0mimages\u001b[0m \u001b[0;34m=\u001b[0m \u001b[0mself\u001b[0m\u001b[0;34m.\u001b[0m\u001b[0mload_all_dicom_images\u001b[0m\u001b[0;34m(\u001b[0m\u001b[0mverbose\u001b[0m\u001b[0;34m=\u001b[0m\u001b[0mverbose\u001b[0m\u001b[0;34m)\u001b[0m\u001b[0;34m\u001b[0m\u001b[0;34m\u001b[0m\u001b[0m\n\u001b[0m\u001b[1;32m    643\u001b[0m \u001b[0;34m\u001b[0m\u001b[0m\n\u001b[1;32m    644\u001b[0m         volume = np.stack(\n",
            "\u001b[0;32m/usr/local/lib/python3.7/dist-packages/pylidc/Scan.py\u001b[0m in \u001b[0;36mload_all_dicom_images\u001b[0;34m(self, verbose)\u001b[0m\n\u001b[1;32m    286\u001b[0m         \u001b[0;32mif\u001b[0m \u001b[0mverbose\u001b[0m\u001b[0;34m:\u001b[0m \u001b[0mprint\u001b[0m\u001b[0;34m(\u001b[0m\u001b[0;34m\"Loading dicom files ... This may take a moment.\"\u001b[0m\u001b[0;34m)\u001b[0m\u001b[0;34m\u001b[0m\u001b[0;34m\u001b[0m\u001b[0m\n\u001b[1;32m    287\u001b[0m \u001b[0;34m\u001b[0m\u001b[0m\n\u001b[0;32m--> 288\u001b[0;31m         \u001b[0mpath\u001b[0m \u001b[0;34m=\u001b[0m \u001b[0mself\u001b[0m\u001b[0;34m.\u001b[0m\u001b[0mget_path_to_dicom_files\u001b[0m\u001b[0;34m(\u001b[0m\u001b[0;34m)\u001b[0m\u001b[0;34m\u001b[0m\u001b[0;34m\u001b[0m\u001b[0m\n\u001b[0m\u001b[1;32m    289\u001b[0m         fnames = [fname for fname in os.listdir(path)\n\u001b[1;32m    290\u001b[0m                             if fname.endswith('.dcm') and not fname.startswith(\".\")]\n",
            "\u001b[0;32m/usr/local/lib/python3.7/dist-packages/pylidc/Scan.py\u001b[0m in \u001b[0;36mget_path_to_dicom_files\u001b[0;34m(self)\u001b[0m\n\u001b[1;32m    213\u001b[0m                    \u001b[0;34m\"specified the `path` option in the configuration \"\u001b[0m\u001b[0;34m\u001b[0m\u001b[0;34m\u001b[0m\u001b[0m\n\u001b[1;32m    214\u001b[0m                    \"file {}?\")\n\u001b[0;32m--> 215\u001b[0;31m             \u001b[0;32mraise\u001b[0m \u001b[0mRuntimeError\u001b[0m\u001b[0;34m(\u001b[0m\u001b[0mmsg\u001b[0m\u001b[0;34m.\u001b[0m\u001b[0mformat\u001b[0m\u001b[0;34m(\u001b[0m\u001b[0m_get_config_file\u001b[0m\u001b[0;34m(\u001b[0m\u001b[0;34m)\u001b[0m\u001b[0;34m)\u001b[0m\u001b[0;34m)\u001b[0m\u001b[0;34m\u001b[0m\u001b[0;34m\u001b[0m\u001b[0m\n\u001b[0m\u001b[1;32m    216\u001b[0m \u001b[0;34m\u001b[0m\u001b[0m\n\u001b[1;32m    217\u001b[0m         \u001b[0mbase\u001b[0m \u001b[0;34m=\u001b[0m \u001b[0mos\u001b[0m\u001b[0;34m.\u001b[0m\u001b[0mpath\u001b[0m\u001b[0;34m.\u001b[0m\u001b[0mjoin\u001b[0m\u001b[0;34m(\u001b[0m\u001b[0mdicompath\u001b[0m\u001b[0;34m,\u001b[0m \u001b[0mself\u001b[0m\u001b[0;34m.\u001b[0m\u001b[0mpatient_id\u001b[0m\u001b[0;34m)\u001b[0m\u001b[0;34m\u001b[0m\u001b[0;34m\u001b[0m\u001b[0m\n",
            "\u001b[0;31mRuntimeError\u001b[0m: Could not establish path to dicom files. Have you specified the `path` option in the configuration file /root/.pylidcrc?"
          ]
        }
      ]
    },
    {
      "cell_type": "code",
      "source": [
        "import numpy as np\n",
        "import matplotlib.pyplot as plt\n",
        "import matplotlib.animation as manim\n",
        "from skimage.measure import find_contours\n",
        "\n",
        "import pylidc as pl\n",
        "from pylidc.utils import consensus\n",
        "\n",
        "\n",
        "# Query for a scan, and convert it to an array volume.\n",
        "scan = pl.query(pl.Scan).filter(pl.Scan.patient_id == 'LIDC-IDRI-0078').first()\n",
        "vol = scan.to_volume()\n",
        "\n",
        "# Cluster the annotations for the scan, and grab one.\n",
        "nods = scan.cluster_annotations()\n",
        "anns = nods[0]\n",
        "\n",
        "# Perform a consensus consolidation and 50% agreement level.\n",
        "# We pad the slices to add context for viewing.\n",
        "cmask,cbbox,masks = consensus(anns, clevel=0.5,\n",
        "                              pad=[(20,20), (20,20), (0,0)])\n",
        "\n",
        "# Get the central slice of the computed bounding box.\n",
        "k = int(0.5*(cbbox[2].stop - cbbox[2].start))\n",
        "\n",
        "# Set up the plot.\n",
        "fig,ax = plt.subplots(1,1,figsize=(5,5))\n",
        "ax.imshow(vol[cbbox][:,:,k], cmap=plt.cm.gray, alpha=0.5)\n",
        "\n",
        "# Plot the annotation contours for the kth slice.\n",
        "colors = ['r', 'g', 'b', 'y']\n",
        "for j in range(len(masks)):\n",
        "    for c in find_contours(masks[j][:,:,k].astype(float), 0.5):\n",
        "        label = \"Annotation %d\" % (j+1)\n",
        "        plt.plot(c[:,1], c[:,0], colors[j], label=label)\n",
        "\n",
        "# Plot the 50% consensus contour for the kth slice.\n",
        "for c in find_contours(cmask[:,:,k].astype(float), 0.5):\n",
        "    plt.plot(c[:,1], c[:,0], '--k', label='50% Consensus')\n",
        "\n",
        "ax.axis('off')\n",
        "ax.legend()\n",
        "plt.tight_layout()\n",
        "#plt.savefig(\"../images/consensus.png\", bbox_inches=\"tight\")\n",
        "plt.show()"
      ],
      "metadata": {
        "colab": {
          "base_uri": "https://localhost:8080/",
          "height": 416
        },
        "id": "kFtkuQgJXLB_",
        "outputId": "c4ea4f3b-fe62-41fd-b4a0-ae2ddfecc910"
      },
      "execution_count": null,
      "outputs": [
        {
          "output_type": "stream",
          "name": "stdout",
          "text": [
            "Loading dicom files ... This may take a moment.\n"
          ]
        },
        {
          "output_type": "error",
          "ename": "RuntimeError",
          "evalue": "ignored",
          "traceback": [
            "\u001b[0;31m---------------------------------------------------------------------------\u001b[0m",
            "\u001b[0;31mRuntimeError\u001b[0m                              Traceback (most recent call last)",
            "\u001b[0;32m<ipython-input-21-9c88046828e4>\u001b[0m in \u001b[0;36m<module>\u001b[0;34m\u001b[0m\n\u001b[1;32m     10\u001b[0m \u001b[0;31m# Query for a scan, and convert it to an array volume.\u001b[0m\u001b[0;34m\u001b[0m\u001b[0;34m\u001b[0m\u001b[0;34m\u001b[0m\u001b[0m\n\u001b[1;32m     11\u001b[0m \u001b[0mscan\u001b[0m \u001b[0;34m=\u001b[0m \u001b[0mpl\u001b[0m\u001b[0;34m.\u001b[0m\u001b[0mquery\u001b[0m\u001b[0;34m(\u001b[0m\u001b[0mpl\u001b[0m\u001b[0;34m.\u001b[0m\u001b[0mScan\u001b[0m\u001b[0;34m)\u001b[0m\u001b[0;34m.\u001b[0m\u001b[0mfilter\u001b[0m\u001b[0;34m(\u001b[0m\u001b[0mpl\u001b[0m\u001b[0;34m.\u001b[0m\u001b[0mScan\u001b[0m\u001b[0;34m.\u001b[0m\u001b[0mpatient_id\u001b[0m \u001b[0;34m==\u001b[0m \u001b[0;34m'LIDC-IDRI-0078'\u001b[0m\u001b[0;34m)\u001b[0m\u001b[0;34m.\u001b[0m\u001b[0mfirst\u001b[0m\u001b[0;34m(\u001b[0m\u001b[0;34m)\u001b[0m\u001b[0;34m\u001b[0m\u001b[0;34m\u001b[0m\u001b[0m\n\u001b[0;32m---> 12\u001b[0;31m \u001b[0mvol\u001b[0m \u001b[0;34m=\u001b[0m \u001b[0mscan\u001b[0m\u001b[0;34m.\u001b[0m\u001b[0mto_volume\u001b[0m\u001b[0;34m(\u001b[0m\u001b[0;34m)\u001b[0m\u001b[0;34m\u001b[0m\u001b[0;34m\u001b[0m\u001b[0m\n\u001b[0m\u001b[1;32m     13\u001b[0m \u001b[0;34m\u001b[0m\u001b[0m\n\u001b[1;32m     14\u001b[0m \u001b[0;31m# Cluster the annotations for the scan, and grab one.\u001b[0m\u001b[0;34m\u001b[0m\u001b[0;34m\u001b[0m\u001b[0;34m\u001b[0m\u001b[0m\n",
            "\u001b[0;32m/usr/local/lib/python3.7/dist-packages/pylidc/Scan.py\u001b[0m in \u001b[0;36mto_volume\u001b[0;34m(self, verbose)\u001b[0m\n\u001b[1;32m    640\u001b[0m         \u001b[0mReturn\u001b[0m \u001b[0mthe\u001b[0m \u001b[0mscan\u001b[0m \u001b[0;32mas\u001b[0m \u001b[0ma\u001b[0m \u001b[0;36m3\u001b[0m\u001b[0mD\u001b[0m \u001b[0mnumpy\u001b[0m \u001b[0marray\u001b[0m \u001b[0mvolume\u001b[0m\u001b[0;34m.\u001b[0m\u001b[0;34m\u001b[0m\u001b[0;34m\u001b[0m\u001b[0m\n\u001b[1;32m    641\u001b[0m         \"\"\"\n\u001b[0;32m--> 642\u001b[0;31m         \u001b[0mimages\u001b[0m \u001b[0;34m=\u001b[0m \u001b[0mself\u001b[0m\u001b[0;34m.\u001b[0m\u001b[0mload_all_dicom_images\u001b[0m\u001b[0;34m(\u001b[0m\u001b[0mverbose\u001b[0m\u001b[0;34m=\u001b[0m\u001b[0mverbose\u001b[0m\u001b[0;34m)\u001b[0m\u001b[0;34m\u001b[0m\u001b[0;34m\u001b[0m\u001b[0m\n\u001b[0m\u001b[1;32m    643\u001b[0m \u001b[0;34m\u001b[0m\u001b[0m\n\u001b[1;32m    644\u001b[0m         volume = np.stack(\n",
            "\u001b[0;32m/usr/local/lib/python3.7/dist-packages/pylidc/Scan.py\u001b[0m in \u001b[0;36mload_all_dicom_images\u001b[0;34m(self, verbose)\u001b[0m\n\u001b[1;32m    286\u001b[0m         \u001b[0;32mif\u001b[0m \u001b[0mverbose\u001b[0m\u001b[0;34m:\u001b[0m \u001b[0mprint\u001b[0m\u001b[0;34m(\u001b[0m\u001b[0;34m\"Loading dicom files ... This may take a moment.\"\u001b[0m\u001b[0;34m)\u001b[0m\u001b[0;34m\u001b[0m\u001b[0;34m\u001b[0m\u001b[0m\n\u001b[1;32m    287\u001b[0m \u001b[0;34m\u001b[0m\u001b[0m\n\u001b[0;32m--> 288\u001b[0;31m         \u001b[0mpath\u001b[0m \u001b[0;34m=\u001b[0m \u001b[0mself\u001b[0m\u001b[0;34m.\u001b[0m\u001b[0mget_path_to_dicom_files\u001b[0m\u001b[0;34m(\u001b[0m\u001b[0;34m)\u001b[0m\u001b[0;34m\u001b[0m\u001b[0;34m\u001b[0m\u001b[0m\n\u001b[0m\u001b[1;32m    289\u001b[0m         fnames = [fname for fname in os.listdir(path)\n\u001b[1;32m    290\u001b[0m                             if fname.endswith('.dcm') and not fname.startswith(\".\")]\n",
            "\u001b[0;32m/usr/local/lib/python3.7/dist-packages/pylidc/Scan.py\u001b[0m in \u001b[0;36mget_path_to_dicom_files\u001b[0;34m(self)\u001b[0m\n\u001b[1;32m    213\u001b[0m                    \u001b[0;34m\"specified the `path` option in the configuration \"\u001b[0m\u001b[0;34m\u001b[0m\u001b[0;34m\u001b[0m\u001b[0m\n\u001b[1;32m    214\u001b[0m                    \"file {}?\")\n\u001b[0;32m--> 215\u001b[0;31m             \u001b[0;32mraise\u001b[0m \u001b[0mRuntimeError\u001b[0m\u001b[0;34m(\u001b[0m\u001b[0mmsg\u001b[0m\u001b[0;34m.\u001b[0m\u001b[0mformat\u001b[0m\u001b[0;34m(\u001b[0m\u001b[0m_get_config_file\u001b[0m\u001b[0;34m(\u001b[0m\u001b[0;34m)\u001b[0m\u001b[0;34m)\u001b[0m\u001b[0;34m)\u001b[0m\u001b[0;34m\u001b[0m\u001b[0;34m\u001b[0m\u001b[0m\n\u001b[0m\u001b[1;32m    216\u001b[0m \u001b[0;34m\u001b[0m\u001b[0m\n\u001b[1;32m    217\u001b[0m         \u001b[0mbase\u001b[0m \u001b[0;34m=\u001b[0m \u001b[0mos\u001b[0m\u001b[0;34m.\u001b[0m\u001b[0mpath\u001b[0m\u001b[0;34m.\u001b[0m\u001b[0mjoin\u001b[0m\u001b[0;34m(\u001b[0m\u001b[0mdicompath\u001b[0m\u001b[0;34m,\u001b[0m \u001b[0mself\u001b[0m\u001b[0;34m.\u001b[0m\u001b[0mpatient_id\u001b[0m\u001b[0;34m)\u001b[0m\u001b[0;34m\u001b[0m\u001b[0;34m\u001b[0m\u001b[0m\n",
            "\u001b[0;31mRuntimeError\u001b[0m: Could not establish path to dicom files. Have you specified the `path` option in the configuration file /root/.pylidcrc?"
          ]
        }
      ]
    },
    {
      "cell_type": "code",
      "source": [
        "!mkdir /usr/share/desktop-directories/\n",
        "!wget -P ~/NBIA-Data-Retriever https://cbiit-download.nci.nih.gov/nbia/releases/ForTCIA/NBIADataRetriever_4.2/nbia-data-retriever-4.2.deb\n",
        "!dpkg -i ~/NBIA-Data-Retriever/nbia-data-retriever-4.2.deb"
      ],
      "metadata": {
        "id": "0RM_72hjYHSV"
      },
      "execution_count": null,
      "outputs": []
    },
    {
      "cell_type": "code",
      "source": [
        "!wget https://wiki.cancerimagingarchive.net/download/attachments/44499647/LIDC-IDRI-StandardizedRepresentation-March2020-manifest.tcia?version=1&modificationDate=1585445399387&api=v2"
      ],
      "metadata": {
        "id": "oKHT2brN1qOB"
      },
      "execution_count": null,
      "outputs": []
    },
    {
      "cell_type": "code",
      "source": [
        "!/opt/nbia-data-retriever/nbia-data-retriever --cli /content/LIDC-IDRI-StandardizedRepresentation-March2020-manifest.tcia -d /content/ -v"
      ],
      "metadata": {
        "id": "2fJyvgD81_p7"
      },
      "execution_count": null,
      "outputs": []
    },
    {
      "cell_type": "code",
      "source": [
        "!zip -r lidc.zip /content/LIDC-IDRI-StandardizedRepresentation-March2020-manifest\n"
      ],
      "metadata": {
        "id": "1VrEKSy52I54"
      },
      "execution_count": null,
      "outputs": []
    },
    {
      "cell_type": "code",
      "source": [
        "# from google.colab import drive\n",
        "# drive.mount('/content/drive')\n",
        "\n",
        "!cp lidc.zip /content/drive/MyDrive/lidc-backup.zip"
      ],
      "metadata": {
        "id": "MS_X6W0LGbV9"
      },
      "execution_count": 9,
      "outputs": []
    },
    {
      "cell_type": "code",
      "source": [
        "!touch /home/mohammad/pylidcrc"
      ],
      "metadata": {
        "id": "FZpw5jWyOq0m"
      },
      "execution_count": 25,
      "outputs": []
    },
    {
      "cell_type": "code",
      "source": [
        "!cp /home/mohammad/pylidcrc /home/mohammad/.pylidcrc\n",
        "!cp /home/mohammad/.pylidcrc /root/.pylidcrc"
      ],
      "metadata": {
        "id": "WVaKQcISWCYf"
      },
      "execution_count": 26,
      "outputs": []
    },
    {
      "cell_type": "code",
      "source": [
        "!ls -a /home/mohammad/"
      ],
      "metadata": {
        "colab": {
          "base_uri": "https://localhost:8080/"
        },
        "id": "2JmcDqCWWKCo",
        "outputId": "97320a2e-d85d-4adb-81de-9198da890eec"
      },
      "execution_count": 16,
      "outputs": [
        {
          "output_type": "stream",
          "name": "stdout",
          "text": [
            ".  ..  pylidcrc  .pylidcrc  .pylidcrc.swp\n"
          ]
        }
      ]
    },
    {
      "cell_type": "code",
      "source": [
        "import numpy as np\n",
        "import matplotlib.pyplot as plt\n",
        "import matplotlib.animation as manim\n",
        "from skimage.measure import find_contours\n",
        "\n",
        "import pylidc as pl\n",
        "from pylidc.utils import consensus\n",
        "\n",
        "\n",
        "# Query for a scan, and convert it to an array volume.\n",
        "scan = pl.query(pl.Scan).filter(pl.Scan.patient_id == 'LIDC-IDRI-0078').first()\n",
        "vol = scan.to_volume()\n",
        "\n",
        "# Cluster the annotations for the scan, and grab one.\n",
        "nods = scan.cluster_annotations()\n",
        "anns = nods[0]\n",
        "\n",
        "# Perform a consensus consolidation and 50% agreement level.\n",
        "# We pad the slices to add context for viewing.\n",
        "cmask,cbbox,masks = consensus(anns, clevel=0.5,\n",
        "                              pad=[(20,20), (20,20), (0,0)])\n",
        "\n",
        "# Get the central slice of the computed bounding box.\n",
        "k = int(0.5*(cbbox[2].stop - cbbox[2].start))\n",
        "\n",
        "# Set up the plot.\n",
        "fig,ax = plt.subplots(1,1,figsize=(5,5))\n",
        "ax.imshow(vol[cbbox][:,:,k], cmap=plt.cm.gray, alpha=0.5)\n",
        "\n",
        "# Plot the annotation contours for the kth slice.\n",
        "colors = ['r', 'g', 'b', 'y']\n",
        "for j in range(len(masks)):\n",
        "    for c in find_contours(masks[j][:,:,k].astype(float), 0.5):\n",
        "        label = \"Annotation %d\" % (j+1)\n",
        "        plt.plot(c[:,1], c[:,0], colors[j], label=label)\n",
        "\n",
        "# Plot the 50% consensus contour for the kth slice.\n",
        "for c in find_contours(cmask[:,:,k].astype(float), 0.5):\n",
        "    plt.plot(c[:,1], c[:,0], '--k', label='50% Consensus')\n",
        "\n",
        "ax.axis('off')\n",
        "ax.legend()\n",
        "plt.tight_layout()\n",
        "#plt.savefig(\"../images/consensus.png\", bbox_inches=\"tight\")\n",
        "plt.show()"
      ],
      "metadata": {
        "colab": {
          "base_uri": "https://localhost:8080/",
          "height": 398
        },
        "id": "i2YFEYJ4Wd5N",
        "outputId": "6c060980-c101-47b2-fdcc-b975dbdb575f"
      },
      "execution_count": 27,
      "outputs": [
        {
          "output_type": "stream",
          "name": "stdout",
          "text": [
            "Loading dicom files ... This may take a moment.\n"
          ]
        },
        {
          "output_type": "error",
          "ename": "OSError",
          "evalue": "ignored",
          "traceback": [
            "\u001b[0;31m---------------------------------------------------------------------------\u001b[0m",
            "\u001b[0;31mOSError\u001b[0m                                   Traceback (most recent call last)",
            "\u001b[0;32m<ipython-input-27-9c88046828e4>\u001b[0m in \u001b[0;36m<module>\u001b[0;34m\u001b[0m\n\u001b[1;32m     10\u001b[0m \u001b[0;31m# Query for a scan, and convert it to an array volume.\u001b[0m\u001b[0;34m\u001b[0m\u001b[0;34m\u001b[0m\u001b[0;34m\u001b[0m\u001b[0m\n\u001b[1;32m     11\u001b[0m \u001b[0mscan\u001b[0m \u001b[0;34m=\u001b[0m \u001b[0mpl\u001b[0m\u001b[0;34m.\u001b[0m\u001b[0mquery\u001b[0m\u001b[0;34m(\u001b[0m\u001b[0mpl\u001b[0m\u001b[0;34m.\u001b[0m\u001b[0mScan\u001b[0m\u001b[0;34m)\u001b[0m\u001b[0;34m.\u001b[0m\u001b[0mfilter\u001b[0m\u001b[0;34m(\u001b[0m\u001b[0mpl\u001b[0m\u001b[0;34m.\u001b[0m\u001b[0mScan\u001b[0m\u001b[0;34m.\u001b[0m\u001b[0mpatient_id\u001b[0m \u001b[0;34m==\u001b[0m \u001b[0;34m'LIDC-IDRI-0078'\u001b[0m\u001b[0;34m)\u001b[0m\u001b[0;34m.\u001b[0m\u001b[0mfirst\u001b[0m\u001b[0;34m(\u001b[0m\u001b[0;34m)\u001b[0m\u001b[0;34m\u001b[0m\u001b[0;34m\u001b[0m\u001b[0m\n\u001b[0;32m---> 12\u001b[0;31m \u001b[0mvol\u001b[0m \u001b[0;34m=\u001b[0m \u001b[0mscan\u001b[0m\u001b[0;34m.\u001b[0m\u001b[0mto_volume\u001b[0m\u001b[0;34m(\u001b[0m\u001b[0;34m)\u001b[0m\u001b[0;34m\u001b[0m\u001b[0;34m\u001b[0m\u001b[0m\n\u001b[0m\u001b[1;32m     13\u001b[0m \u001b[0;34m\u001b[0m\u001b[0m\n\u001b[1;32m     14\u001b[0m \u001b[0;31m# Cluster the annotations for the scan, and grab one.\u001b[0m\u001b[0;34m\u001b[0m\u001b[0;34m\u001b[0m\u001b[0;34m\u001b[0m\u001b[0m\n",
            "\u001b[0;32m/usr/local/lib/python3.7/dist-packages/pylidc/Scan.py\u001b[0m in \u001b[0;36mto_volume\u001b[0;34m(self, verbose)\u001b[0m\n",
            "\u001b[0;32m/usr/local/lib/python3.7/dist-packages/pylidc/Scan.py\u001b[0m in \u001b[0;36mload_all_dicom_images\u001b[0;34m(self, verbose)\u001b[0m\n\u001b[1;32m    286\u001b[0m         \u001b[0;31m# ##############################################\u001b[0m\u001b[0;34m\u001b[0m\u001b[0;34m\u001b[0m\u001b[0;34m\u001b[0m\u001b[0m\n\u001b[1;32m    287\u001b[0m         \u001b[0;31m# Clean multiple z scans.\u001b[0m\u001b[0;34m\u001b[0m\u001b[0;34m\u001b[0m\u001b[0;34m\u001b[0m\u001b[0m\n\u001b[0;32m--> 288\u001b[0;31m         \u001b[0;31m#\u001b[0m\u001b[0;34m\u001b[0m\u001b[0;34m\u001b[0m\u001b[0;34m\u001b[0m\u001b[0m\n\u001b[0m\u001b[1;32m    289\u001b[0m         \u001b[0;31m# Some scans contain multiple slices with the same `z` coordinate\u001b[0m\u001b[0;34m\u001b[0m\u001b[0;34m\u001b[0m\u001b[0;34m\u001b[0m\u001b[0m\n\u001b[1;32m    290\u001b[0m         \u001b[0;31m# from the `ImagePositionPatient` tag.\u001b[0m\u001b[0;34m\u001b[0m\u001b[0;34m\u001b[0m\u001b[0;34m\u001b[0m\u001b[0m\n",
            "\u001b[0;32m/usr/local/lib/python3.7/dist-packages/pylidc/Scan.py\u001b[0m in \u001b[0;36mget_path_to_dicom_files\u001b[0;34m(self)\u001b[0m\n\u001b[1;32m    254\u001b[0m         \u001b[0;34m-\u001b[0m\u001b[0;34m-\u001b[0m\u001b[0;34m-\u001b[0m\u001b[0;34m-\u001b[0m\u001b[0;34m-\u001b[0m\u001b[0;34m-\u001b[0m\u001b[0;34m-\u001b[0m\u001b[0;34m\u001b[0m\u001b[0;34m\u001b[0m\u001b[0m\n\u001b[1;32m    255\u001b[0m         \u001b[0mAn\u001b[0m \u001b[0mexample\u001b[0m\u001b[0;34m:\u001b[0m\u001b[0;34m:\u001b[0m\u001b[0;34m\u001b[0m\u001b[0;34m\u001b[0m\u001b[0m\n\u001b[0;32m--> 256\u001b[0;31m \u001b[0;34m\u001b[0m\u001b[0m\n\u001b[0m\u001b[1;32m    257\u001b[0m             \u001b[0;32mimport\u001b[0m \u001b[0mpylidc\u001b[0m \u001b[0;32mas\u001b[0m \u001b[0mpl\u001b[0m\u001b[0;34m\u001b[0m\u001b[0;34m\u001b[0m\u001b[0m\n\u001b[1;32m    258\u001b[0m             \u001b[0;32mimport\u001b[0m \u001b[0mmatplotlib\u001b[0m\u001b[0;34m.\u001b[0m\u001b[0mpyplot\u001b[0m \u001b[0;32mas\u001b[0m \u001b[0mplt\u001b[0m\u001b[0;34m\u001b[0m\u001b[0;34m\u001b[0m\u001b[0m\n",
            "\u001b[0;31mOSError\u001b[0m: Couldn't find DICOM files for Scan(id=1,patient_id=LIDC-IDRI-0078)."
          ]
        }
      ]
    },
    {
      "cell_type": "code",
      "source": [
        "!cp /content/NBIADataRetrieverCLI-20220726080705.log /content/drive/MyDrive/NBIADataRetrieverCLI-20220726080705.log"
      ],
      "metadata": {
        "id": "IdFKoG8SXM2c"
      },
      "execution_count": 28,
      "outputs": []
    },
    {
      "cell_type": "code",
      "source": [
        "\n",
        "# Query for a scan, and convert it to an array volume.\n",
        "scan = pl.query(pl.Scan).filter(pl.Scan.patient_id == 'LIDC-IDRI-0078').first()\n",
        "vol = scan.to_volume()"
      ],
      "metadata": {
        "colab": {
          "base_uri": "https://localhost:8080/",
          "height": 364
        },
        "id": "MXydVz4aiTcH",
        "outputId": "084eca9b-8ddc-4ab8-92be-d45d290bd750"
      },
      "execution_count": 29,
      "outputs": [
        {
          "output_type": "stream",
          "name": "stdout",
          "text": [
            "Loading dicom files ... This may take a moment.\n"
          ]
        },
        {
          "output_type": "error",
          "ename": "OSError",
          "evalue": "ignored",
          "traceback": [
            "\u001b[0;31m---------------------------------------------------------------------------\u001b[0m",
            "\u001b[0;31mOSError\u001b[0m                                   Traceback (most recent call last)",
            "\u001b[0;32m<ipython-input-29-f4b2dc941e04>\u001b[0m in \u001b[0;36m<module>\u001b[0;34m\u001b[0m\n\u001b[1;32m      1\u001b[0m \u001b[0;31m# Query for a scan, and convert it to an array volume.\u001b[0m\u001b[0;34m\u001b[0m\u001b[0;34m\u001b[0m\u001b[0;34m\u001b[0m\u001b[0m\n\u001b[1;32m      2\u001b[0m \u001b[0mscan\u001b[0m \u001b[0;34m=\u001b[0m \u001b[0mpl\u001b[0m\u001b[0;34m.\u001b[0m\u001b[0mquery\u001b[0m\u001b[0;34m(\u001b[0m\u001b[0mpl\u001b[0m\u001b[0;34m.\u001b[0m\u001b[0mScan\u001b[0m\u001b[0;34m)\u001b[0m\u001b[0;34m.\u001b[0m\u001b[0mfilter\u001b[0m\u001b[0;34m(\u001b[0m\u001b[0mpl\u001b[0m\u001b[0;34m.\u001b[0m\u001b[0mScan\u001b[0m\u001b[0;34m.\u001b[0m\u001b[0mpatient_id\u001b[0m \u001b[0;34m==\u001b[0m \u001b[0;34m'LIDC-IDRI-0078'\u001b[0m\u001b[0;34m)\u001b[0m\u001b[0;34m.\u001b[0m\u001b[0mfirst\u001b[0m\u001b[0;34m(\u001b[0m\u001b[0;34m)\u001b[0m\u001b[0;34m\u001b[0m\u001b[0;34m\u001b[0m\u001b[0m\n\u001b[0;32m----> 3\u001b[0;31m \u001b[0mvol\u001b[0m \u001b[0;34m=\u001b[0m \u001b[0mscan\u001b[0m\u001b[0;34m.\u001b[0m\u001b[0mto_volume\u001b[0m\u001b[0;34m(\u001b[0m\u001b[0;34m)\u001b[0m\u001b[0;34m\u001b[0m\u001b[0;34m\u001b[0m\u001b[0m\n\u001b[0m",
            "\u001b[0;32m/usr/local/lib/python3.7/dist-packages/pylidc/Scan.py\u001b[0m in \u001b[0;36mto_volume\u001b[0;34m(self, verbose)\u001b[0m\n",
            "\u001b[0;32m/usr/local/lib/python3.7/dist-packages/pylidc/Scan.py\u001b[0m in \u001b[0;36mload_all_dicom_images\u001b[0;34m(self, verbose)\u001b[0m\n\u001b[1;32m    286\u001b[0m         \u001b[0;31m# ##############################################\u001b[0m\u001b[0;34m\u001b[0m\u001b[0;34m\u001b[0m\u001b[0;34m\u001b[0m\u001b[0m\n\u001b[1;32m    287\u001b[0m         \u001b[0;31m# Clean multiple z scans.\u001b[0m\u001b[0;34m\u001b[0m\u001b[0;34m\u001b[0m\u001b[0;34m\u001b[0m\u001b[0m\n\u001b[0;32m--> 288\u001b[0;31m         \u001b[0;31m#\u001b[0m\u001b[0;34m\u001b[0m\u001b[0;34m\u001b[0m\u001b[0;34m\u001b[0m\u001b[0m\n\u001b[0m\u001b[1;32m    289\u001b[0m         \u001b[0;31m# Some scans contain multiple slices with the same `z` coordinate\u001b[0m\u001b[0;34m\u001b[0m\u001b[0;34m\u001b[0m\u001b[0;34m\u001b[0m\u001b[0m\n\u001b[1;32m    290\u001b[0m         \u001b[0;31m# from the `ImagePositionPatient` tag.\u001b[0m\u001b[0;34m\u001b[0m\u001b[0;34m\u001b[0m\u001b[0;34m\u001b[0m\u001b[0m\n",
            "\u001b[0;32m/usr/local/lib/python3.7/dist-packages/pylidc/Scan.py\u001b[0m in \u001b[0;36mget_path_to_dicom_files\u001b[0;34m(self)\u001b[0m\n\u001b[1;32m    254\u001b[0m         \u001b[0;34m-\u001b[0m\u001b[0;34m-\u001b[0m\u001b[0;34m-\u001b[0m\u001b[0;34m-\u001b[0m\u001b[0;34m-\u001b[0m\u001b[0;34m-\u001b[0m\u001b[0;34m-\u001b[0m\u001b[0;34m\u001b[0m\u001b[0;34m\u001b[0m\u001b[0m\n\u001b[1;32m    255\u001b[0m         \u001b[0mAn\u001b[0m \u001b[0mexample\u001b[0m\u001b[0;34m:\u001b[0m\u001b[0;34m:\u001b[0m\u001b[0;34m\u001b[0m\u001b[0;34m\u001b[0m\u001b[0m\n\u001b[0;32m--> 256\u001b[0;31m \u001b[0;34m\u001b[0m\u001b[0m\n\u001b[0m\u001b[1;32m    257\u001b[0m             \u001b[0;32mimport\u001b[0m \u001b[0mpylidc\u001b[0m \u001b[0;32mas\u001b[0m \u001b[0mpl\u001b[0m\u001b[0;34m\u001b[0m\u001b[0;34m\u001b[0m\u001b[0m\n\u001b[1;32m    258\u001b[0m             \u001b[0;32mimport\u001b[0m \u001b[0mmatplotlib\u001b[0m\u001b[0;34m.\u001b[0m\u001b[0mpyplot\u001b[0m \u001b[0;32mas\u001b[0m \u001b[0mplt\u001b[0m\u001b[0;34m\u001b[0m\u001b[0;34m\u001b[0m\u001b[0m\n",
            "\u001b[0;31mOSError\u001b[0m: Couldn't find DICOM files for Scan(id=1,patient_id=LIDC-IDRI-0078)."
          ]
        }
      ]
    },
    {
      "cell_type": "code",
      "source": [],
      "metadata": {
        "id": "F0hpYSoMjjvt"
      },
      "execution_count": null,
      "outputs": []
    }
  ]
}